{
 "cells": [
  {
   "cell_type": "code",
   "execution_count": 40,
   "id": "3bdad18b",
   "metadata": {},
   "outputs": [
    {
     "name": "stderr",
     "output_type": "stream",
     "text": [
      "[nltk_data] Downloading package stopwords to\n",
      "[nltk_data]     C:\\Users\\Eya\\AppData\\Roaming\\nltk_data...\n",
      "[nltk_data]   Package stopwords is already up-to-date!\n"
     ]
    },
    {
     "name": "stdout",
     "output_type": "stream",
     "text": [
      "Accuracy: 1.0\n",
      "Classification Report:\n",
      "               precision    recall  f1-score   support\n",
      "\n",
      "           0       1.00      1.00      1.00         4\n",
      "           1       1.00      1.00      1.00         6\n",
      "\n",
      "    accuracy                           1.00        10\n",
      "   macro avg       1.00      1.00      1.00        10\n",
      "weighted avg       1.00      1.00      1.00        10\n",
      "\n",
      "The document is classified as: bulletin de soin\n"
     ]
    }
   ],
   "source": [
    "from PIL import Image\n",
    "import pytesseract\n",
    "import os\n",
    "import pandas as pd\n",
    "import nltk\n",
    "from nltk.corpus import stopwords\n",
    "from sklearn.feature_extraction.text import TfidfVectorizer\n",
    "from sklearn.model_selection import train_test_split, GridSearchCV\n",
    "from sklearn.linear_model import LogisticRegression\n",
    "from sklearn.metrics import accuracy_score, classification_report\n",
    "\n",
    "# Télécharger les stop words\n",
    "nltk.download('stopwords')\n",
    "french_stop_words = stopwords.words('french')\n",
    "\n",
    "def extract_text_from_image(image_path):\n",
    "    \"\"\"Extract text from an image using Tesseract OCR.\"\"\"\n",
    "    try:\n",
    "        img = Image.open(image_path)\n",
    "        text = pytesseract.image_to_string(img, lang='fra+ara')  # Use 'fra' for French text\n",
    "        return text\n",
    "    except Exception as e:\n",
    "        print(f\"Error processing {image_path}: {e}\")\n",
    "        return \"\"\n",
    "\n",
    "def extract_text_from_folder(folder_path):\n",
    "    texts = []\n",
    "    for filename in os.listdir(folder_path):\n",
    "        if filename.endswith(('.png', '.jpg', '.jpeg')):\n",
    "            image_path = os.path.join(folder_path, filename)\n",
    "            text = extract_text_from_image(image_path)\n",
    "            texts.append(text)\n",
    "    return texts\n",
    "\n",
    "# Extract text from both folders\n",
    "bulletin_texts = extract_text_from_folder(\"C:/Users/Eya/Documents/Esprit/PI/dataset/bulletin/\")\n",
    "other_texts = extract_text_from_folder(\"C:/Users/Eya/Documents/Esprit/PI/dataset/ordonnance/\")\n",
    "\n",
    "# Create a DataFrame\n",
    "data = {\n",
    "    \"text\": bulletin_texts + other_texts,\n",
    "    \"label\": [1] * len(bulletin_texts) + [0] * len(other_texts)  # 1 = bulletin de soin, 0 = other\n",
    "}\n",
    "df = pd.DataFrame(data)\n",
    "\n",
    "# Shuffle the dataset\n",
    "df = df.sample(frac=1).reset_index(drop=True)\n",
    "\n",
    "# Split the dataset into training and testing sets\n",
    "X_train, X_test, y_train, y_test = train_test_split(df[\"text\"], df[\"label\"], test_size=0.2, random_state=42)\n",
    "\n",
    "# Convert text to TF-IDF features\n",
    "vectorizer = TfidfVectorizer(max_features=1000, stop_words=french_stop_words)\n",
    "X_train_tfidf = vectorizer.fit_transform(X_train)\n",
    "X_test_tfidf = vectorizer.transform(X_test)\n",
    "\n",
    "# Train a Logistic Regression model with hyperparameter tuning\n",
    "model = LogisticRegression(class_weight='balanced')  # Utiliser class_weight pour gérer le déséquilibre\n",
    "param_grid = {'C': [0.01, 0.1, 1, 10, 100]}\n",
    "grid_search = GridSearchCV(model, param_grid, cv=5)\n",
    "grid_search.fit(X_train_tfidf, y_train)\n",
    "\n",
    "# Evaluate the model\n",
    "y_pred = grid_search.predict(X_test_tfidf)\n",
    "print(\"Accuracy:\", accuracy_score(y_test, y_pred))\n",
    "print(\"Classification Report:\\n\", classification_report(y_test, y_pred))\n",
    "\n",
    "def classify_document(image_path):\n",
    "    \"\"\"Classify a new document as 'bulletin de soin' or not.\"\"\"\n",
    "    text = extract_text_from_image(image_path)\n",
    "    text_tfidf = vectorizer.transform([text])\n",
    "    prediction = grid_search.predict(text_tfidf)\n",
    "    return \"bulletin de soin\" if prediction[0] == 1 else \"Ordonnance\"\n",
    "\n",
    "# Test on a new document\n",
    "new_document_path = \"C:/Users/Eya/Documents/Esprit/PI/dataset/bulletin/star.jpeg\"#Documents/Esprit/PI/dataset/bulletin/bb.jpg\"\n",
    "result = classify_document(new_document_path)\n",
    "print(f\"The document is classified as: {result}\")"
   ]
  },
  {
   "cell_type": "code",
   "execution_count": 1,
   "id": "410af1af",
   "metadata": {},
   "outputs": [
    {
     "name": "stderr",
     "output_type": "stream",
     "text": [
      "C:\\Users\\Eya\\anaconda3\\Lib\\site-packages\\pandas\\core\\arrays\\masked.py:60: UserWarning: Pandas requires version '1.3.6' or newer of 'bottleneck' (version '1.3.5' currently installed).\n",
      "  from pandas.core import (\n",
      "[nltk_data] Downloading package stopwords to\n",
      "[nltk_data]     C:\\Users\\Eya\\AppData\\Roaming\\nltk_data...\n",
      "[nltk_data]   Package stopwords is already up-to-date!\n"
     ]
    },
    {
     "name": "stdout",
     "output_type": "stream",
     "text": [
      "Accuracy: 1.0\n",
      "Classification Report:\n",
      "               precision    recall  f1-score   support\n",
      "\n",
      "           0       1.00      1.00      1.00         4\n",
      "           1       1.00      1.00      1.00         6\n",
      "\n",
      "    accuracy                           1.00        10\n",
      "   macro avg       1.00      1.00      1.00        10\n",
      "weighted avg       1.00      1.00      1.00        10\n",
      "\n",
      "The document is classified as: ordonnance\n"
     ]
    }
   ],
   "source": [
    "from PIL import Image\n",
    "import pytesseract\n",
    "import os\n",
    "import pandas as pd\n",
    "import nltk\n",
    "from nltk.corpus import stopwords\n",
    "from sklearn.feature_extraction.text import TfidfVectorizer\n",
    "from sklearn.model_selection import train_test_split, GridSearchCV\n",
    "from sklearn.linear_model import LogisticRegression\n",
    "from sklearn.metrics import accuracy_score, classification_report\n",
    "\n",
    "# Télécharger les stop words\n",
    "nltk.download('stopwords')\n",
    "french_stop_words = stopwords.words('french')\n",
    "\n",
    "def extract_text_from_image(image_path):\n",
    "    \"\"\"Extract text from an image using Tesseract OCR.\"\"\"\n",
    "    try:\n",
    "        img = Image.open(image_path)\n",
    "        text = pytesseract.image_to_string(img, lang='fra+ara')  # Use 'fra' for French text\n",
    "        return text\n",
    "    except Exception as e:\n",
    "        print(f\"Error processing {image_path}: {e}\")\n",
    "        return \"\"\n",
    "\n",
    "def extract_text_from_folder(folder_path):\n",
    "    texts = []\n",
    "    for filename in os.listdir(folder_path):\n",
    "        if filename.endswith(('.png', '.jpg', '.jpeg')):\n",
    "            image_path = os.path.join(folder_path, filename)\n",
    "            text = extract_text_from_image(image_path)\n",
    "            texts.append(text)\n",
    "    return texts\n",
    "\n",
    "# Extract text from both folders\n",
    "bulletin_texts = extract_text_from_folder(\"C:/Users/Eya/Documents/Esprit/PI/dataset/bulletin/\")\n",
    "other_texts = extract_text_from_folder(\"C:/Users/Eya/Documents/Esprit/PI/dataset/ordonnance/\")\n",
    "\n",
    "# Create a DataFrame\n",
    "data = {\n",
    "    \"text\": bulletin_texts + other_texts,\n",
    "    \"label\": [1] * len(bulletin_texts) + [0] * len(other_texts)  # 1 = bulletin de soin, 0 = other\n",
    "}\n",
    "df = pd.DataFrame(data)\n",
    "\n",
    "# Shuffle the dataset\n",
    "df = df.sample(frac=1).reset_index(drop=True)\n",
    "\n",
    "# Split the dataset into training and testing sets\n",
    "X_train, X_test, y_train, y_test = train_test_split(df[\"text\"], df[\"label\"], test_size=0.2, random_state=42)\n",
    "\n",
    "# Convert text to TF-IDF features\n",
    "vectorizer = TfidfVectorizer(max_features=1000, stop_words=french_stop_words)\n",
    "X_train_tfidf = vectorizer.fit_transform(X_train)\n",
    "X_test_tfidf = vectorizer.transform(X_test)\n",
    "\n",
    "# Train a Logistic Regression model with hyperparameter tuning\n",
    "model = LogisticRegression(class_weight='balanced')  # Utiliser class_weight pour gérer le déséquilibre\n",
    "param_grid = {'C': [0.01, 0.1, 1, 10, 100]}\n",
    "grid_search = GridSearchCV(model, param_grid, cv=5)\n",
    "grid_search.fit(X_train_tfidf, y_train)\n",
    "\n",
    "# Evaluate the model\n",
    "y_pred = grid_search.predict(X_test_tfidf)\n",
    "print(\"Accuracy:\", accuracy_score(y_test, y_pred))\n",
    "print(\"Classification Report:\\n\", classification_report(y_test, y_pred))\n",
    "\n",
    "def classify_document(image_path, confidence_threshold=0.55):\n",
    "    \"\"\"\n",
    "    Classify a new document as 'bulletin de soin', 'ordonnance', or 'unrecognized type'.\n",
    "    Args:\n",
    "        image_path (str): Path to the image file.\n",
    "        confidence_threshold (float): Minimum probability threshold to consider the prediction as reliable.\n",
    "    Returns:\n",
    "        str: Classification result.\n",
    "    \"\"\"\n",
    "    text = extract_text_from_image(image_path)\n",
    "    text_tfidf = vectorizer.transform([text])\n",
    "    \n",
    "    # Get prediction probabilities\n",
    "    probabilities = grid_search.predict_proba(text_tfidf)[0]\n",
    "    max_probability = max(probabilities)\n",
    "    \n",
    "    # Check if the maximum probability is above the threshold\n",
    "    if max_probability < confidence_threshold:\n",
    "        return \"unrecognized type\"\n",
    "    \n",
    "    # Otherwise, return the predicted class\n",
    "    prediction = grid_search.predict(text_tfidf)\n",
    "    return \"bulletin de soin\" if prediction[0] == 1 else \"ordonnance\"\n",
    "\n",
    "# Test on a new document\n",
    "new_document_path = \"C:/Users/Eya/Downloads/5b9584a0-affa-4142-9b5c-7c310de48358 (1).png\"  #/Esprit/PI/dataset/ordonnance/oo.png\"  # Remplacez par le chemin de votre image\n",
    "result = classify_document(new_document_path)\n",
    "print(f\"The document is classified as: {result}\")"
   ]
  },
  {
   "cell_type": "code",
   "execution_count": 32,
   "id": "bf32a5bb",
   "metadata": {},
   "outputs": [
    {
     "name": "stdout",
     "output_type": "stream",
     "text": [
      "The document is classified as: bulletin de soin\n"
     ]
    }
   ],
   "source": [
    "# Test on a new document\n",
    "new_document_path = \"C:/Users/Eya/Downloads/btest.jpg\"  #/Esprit/PI/dataset/ordonnance/oo.png\"  \n",
    "result = classify_document(new_document_path)\n",
    "print(f\"The document is classified as: {result}\")"
   ]
  },
  {
   "cell_type": "code",
   "execution_count": 33,
   "id": "8ade23df",
   "metadata": {},
   "outputs": [
    {
     "name": "stdout",
     "output_type": "stream",
     "text": [
      "The document is classified as: bulletin de soin\n"
     ]
    }
   ],
   "source": [
    "# Test on a new document\n",
    "new_document_path = \"C:/Users/Eya/Downloads/bb3.png\"  #/Esprit/PI/dataset/ordonnance/oo.png\"  \n",
    "result = classify_document(new_document_path)\n",
    "print(f\"The document is classified as: {result}\")"
   ]
  },
  {
   "cell_type": "code",
   "execution_count": 34,
   "id": "31b7775f",
   "metadata": {},
   "outputs": [
    {
     "name": "stdout",
     "output_type": "stream",
     "text": [
      "The document is classified as: ordonnance\n"
     ]
    }
   ],
   "source": [
    "# Test on a new document\n",
    "new_document_path = \"C:/Users/Eya/Downloads/OIP.jpg\"  #/Esprit/PI/dataset/ordonnance/oo.png\"  \n",
    "result = classify_document(new_document_path)\n",
    "print(f\"The document is classified as: {result}\")"
   ]
  },
  {
   "cell_type": "code",
   "execution_count": 36,
   "id": "b1c4b1bb",
   "metadata": {},
   "outputs": [
    {
     "name": "stdout",
     "output_type": "stream",
     "text": [
      "The document is classified as: ordonnance\n"
     ]
    }
   ],
   "source": [
    "# Test on a new document\n",
    "new_document_path = \"C:/Users/Eya/Downloads/IO.jpg\"  #/Esprit/PI/dataset/ordonnance/oo.png\"  \n",
    "result = classify_document(new_document_path)\n",
    "print(f\"The document is classified as: {result}\")"
   ]
  },
  {
   "cell_type": "code",
   "execution_count": 37,
   "id": "e67b8a9e",
   "metadata": {},
   "outputs": [
    {
     "name": "stdout",
     "output_type": "stream",
     "text": [
      "The document is classified as: bulletin de soin\n"
     ]
    }
   ],
   "source": [
    "# Test on a new document\n",
    "new_document_path = \"C:/Users/Eya/Downloads/single.jpg\"  #/Esprit/PI/dataset/ordonnance/oo.png\" \n",
    "result = classify_document(new_document_path)\n",
    "print(f\"The document is classified as: {result}\")"
   ]
  },
  {
   "cell_type": "code",
   "execution_count": null,
   "id": "a8deb713",
   "metadata": {},
   "outputs": [],
   "source": []
  }
 ],
 "metadata": {
  "kernelspec": {
   "display_name": "Python 3 (ipykernel)",
   "language": "python",
   "name": "python3"
  },
  "language_info": {
   "codemirror_mode": {
    "name": "ipython",
    "version": 3
   },
   "file_extension": ".py",
   "mimetype": "text/x-python",
   "name": "python",
   "nbconvert_exporter": "python",
   "pygments_lexer": "ipython3",
   "version": "3.11.5"
  }
 },
 "nbformat": 4,
 "nbformat_minor": 5
}
