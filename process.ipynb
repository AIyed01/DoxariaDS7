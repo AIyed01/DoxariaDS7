{
 "cells": [
  {
   "cell_type": "code",
   "execution_count": 6,
   "id": "05b9b784",
   "metadata": {},
   "outputs": [
    {
     "name": "stdout",
     "output_type": "stream",
     "text": [
      "Processed and saved: C:\\Users\\walid\\Downloads\\OUTPUTHERE\\AAA.png\n",
      "Processed and saved: C:\\Users\\walid\\Downloads\\OUTPUTHERE\\ord1.png\n",
      "Processed and saved: C:\\Users\\walid\\Downloads\\OUTPUTHERE\\ORDO123.png\n",
      "Preprocessing complete!\n"
     ]
    }
   ],
   "source": [
    "import os\n",
    "import cv2\n",
    "import numpy as np\n",
    "\n",
    "\n",
    "def preprocess_image(image_path, output_size=(800, 800)):\n",
    "    # Load the image\n",
    "    image = cv2.imread(image_path)\n",
    "\n",
    "    # Resize for consistency\n",
    "    image = cv2.resize(image, output_size, interpolation=cv2.INTER_LINEAR)\n",
    "\n",
    "    # Convert to grayscale\n",
    "    gray = cv2.cvtColor(image, cv2.COLOR_BGR2GRAY)\n",
    "\n",
    "    # Apply adaptive thresholding to binarize the image\n",
    "    binarized = cv2.adaptiveThreshold(\n",
    "        gray, 255, cv2.ADAPTIVE_THRESH_GAUSSIAN_C, cv2.THRESH_BINARY, 11, 2\n",
    "    )\n",
    "\n",
    "    return binarized\n",
    "\n",
    "# Define function to process a folder\n",
    "def process_folder(input_folder, output_folder):\n",
    "    # Create output folder if it doesn't exist\n",
    "    if not os.path.exists(output_folder):\n",
    "        os.makedirs(output_folder)\n",
    "    \n",
    "    # Loop through all images in the input folder\n",
    "    for filename in os.listdir(input_folder):\n",
    "        if filename.endswith(('.jpg', '.jpeg', '.png', '.bmp')):  # Add more extensions if needed\n",
    "            # Load image path\n",
    "            image_path = os.path.join(input_folder, filename)\n",
    "            \n",
    "            # Preprocess image\n",
    "            preprocessed_image = preprocess_image(image_path)  # Pass the image path, not the image object\n",
    "            \n",
    "            # Save preprocessed image\n",
    "            output_path = os.path.join(output_folder, filename)\n",
    "            cv2.imwrite(output_path, preprocessed_image)  # Save the binary image directly\n",
    "            \n",
    "            print(f\"Processed and saved: {output_path}\")\n",
    "\n",
    "# Define input and output folders\n",
    "ord_train_folder = \"C:\\\\Users\\\\walid\\\\Downloads\\\\ordonnance\\\\AAA\"\n",
    "ord_train_output = \"C:\\\\Users\\\\walid\\\\Downloads\\\\OUTPUTHERE\"\n",
    "\n",
    "# Process the folder\n",
    "process_folder(ord_train_folder, ord_train_output)\n",
    "\n",
    "print(\"Preprocessing complete!\")\n"
   ]
  },
  {
   "cell_type": "code",
   "execution_count": null,
   "id": "6fdd63ea",
   "metadata": {},
   "outputs": [],
   "source": []
  }
 ],
 "metadata": {
  "kernelspec": {
   "display_name": "Python 3 (ipykernel)",
   "language": "python",
   "name": "python3"
  },
  "language_info": {
   "codemirror_mode": {
    "name": "ipython",
    "version": 3
   },
   "file_extension": ".py",
   "mimetype": "text/x-python",
   "name": "python",
   "nbconvert_exporter": "python",
   "pygments_lexer": "ipython3",
   "version": "3.11.5"
  }
 },
 "nbformat": 4,
 "nbformat_minor": 5
}
