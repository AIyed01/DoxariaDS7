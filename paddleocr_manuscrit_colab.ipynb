{
 "cells": [
  {
   "cell_type": "markdown",
   "id": "86e7a288",
   "metadata": {},
   "source": [
    "# 📘 PaddleOCR Fine-Tuning Manuscrit Français\n",
    "Ce notebook vous guide étape par étape pour entraîner PaddleOCR sur votre propre dataset manuscrit."
   ]
  },
  {
   "cell_type": "markdown",
   "id": "cf7e84b1",
   "metadata": {},
   "source": [
    "## 📥 1. Importer votre fichier ZIP\n",
    "Commencez par importer le fichier `paddleocr_colab_setup.zip` que vous avez téléchargé, contenant :\n",
    "- `label.txt`\n",
    "- `dict.txt`\n",
    "- `rec_handwritten.yml`\n",
    "\n",
    "⚠️ Ajoutez également un dossier `images/` avec vos vraies images manuscrites."
   ]
  },
  {
   "cell_type": "code",
   "execution_count": null,
   "id": "b0b4701c",
   "metadata": {},
   "outputs": [],
   "source": [
    "from google.colab import files\n",
    "uploaded = files.upload()  # importer le fichier ZIP\n"
   ]
  },
  {
   "cell_type": "markdown",
   "id": "52d9f55e",
   "metadata": {},
   "source": [
    "## 📂 2. Dézipper le fichier et afficher son contenu"
   ]
  },
  {
   "cell_type": "code",
   "execution_count": null,
   "id": "abab8a10",
   "metadata": {},
   "outputs": [],
   "source": [
    "import zipfile\n",
    "import os\n",
    "\n",
    "# Dézipper le fichier\n",
    "with zipfile.ZipFile(\"paddleocr_colab_setup.zip\", 'r') as zip_ref:\n",
    "    zip_ref.extractall(\"paddleocr_project\")\n",
    "\n",
    "# Lister le contenu\n",
    "os.listdir(\"paddleocr_project\")\n"
   ]
  },
  {
   "cell_type": "markdown",
   "id": "fad7a733",
   "metadata": {},
   "source": [
    "## ⚙️ 3. Installer PaddleOCR et ses dépendances"
   ]
  },
  {
   "cell_type": "code",
   "execution_count": null,
   "id": "30182731",
   "metadata": {},
   "outputs": [],
   "source": [
    "!git clone https://github.com/PaddlePaddle/PaddleOCR\n",
    "!pip install -r PaddleOCR/requirements.txt\n",
    "!pip install paddlepaddle\n",
    "!pip install paddleocr\n"
   ]
  },
  {
   "cell_type": "markdown",
   "id": "a4d92439",
   "metadata": {},
   "source": [
    "## 🏋️ 4. Lancer l'entraînement avec votre configuration OCR manuscrite"
   ]
  },
  {
   "cell_type": "code",
   "execution_count": null,
   "id": "663e65ca",
   "metadata": {},
   "outputs": [],
   "source": [
    "%cd PaddleOCR\n",
    "!python tools/train.py -c ../paddleocr_project/rec_handwritten.yml\n"
   ]
  },
  {
   "cell_type": "markdown",
   "id": "60c09d06",
   "metadata": {},
   "source": [
    "## 🔍 5. Tester votre modèle OCR sur une image manuscrite"
   ]
  },
  {
   "cell_type": "code",
   "execution_count": null,
   "id": "e2b449c8",
   "metadata": {},
   "outputs": [],
   "source": [
    "!python tools/infer_rec.py \\\n",
    "  -c ../paddleocr_project/rec_handwritten.yml \\\n",
    "  -o Global.checkpoints=./output/rec_handwritten/latest.pdparams \\\n",
    "     Global.infer_img=../paddleocr_project/images/0001.png\n"
   ]
  }
 ],
 "metadata": {},
 "nbformat": 4,
 "nbformat_minor": 5
}
